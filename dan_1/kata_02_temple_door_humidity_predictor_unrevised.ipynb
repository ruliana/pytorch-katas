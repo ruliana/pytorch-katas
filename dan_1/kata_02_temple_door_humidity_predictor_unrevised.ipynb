{
 "cells": [
  {
   "cell_type": "markdown",
   "metadata": {},
   "source": [
    "[![Open In Colab](https://colab.research.google.com/assets/colab-badge.svg)](https://colab.research.google.com/github/ruliana/pytorch-katas/blob/main/dan_1/kata_02_temple_door_humidity_predictor_unrevised.ipynb)\n",
    "\n",
    "## 🏮 The Ancient Scroll Unfurls 🏮\n",
    "\n",
    "**COOK OH-PAI-TIMIZER'S DOOR WISDOM: THE SIGMOID GATE MYSTERY**\n",
    "\n",
    "Dan Level: 1 (Temple Sweeper) | Time: 45 minutes | Sacred Arts: Binary Classification, Sigmoid Activation, Threshold Decisions"
   ]
  },
  {
   "cell_type": "markdown",
   "metadata": {},
   "source": [
    "## 📜 THE CHALLENGE\n",
    "\n",
    "Cook Oh-Pai-Timizer bustles through the temple corridors, balancing steaming bowls of sacred soup and muttering about the ancient wooden doors. \"These old doors,\" Cook says, wiping sweat from their brow, \"they have minds of their own! When the humidity rises, some stick like they're guarded by stubborn spirits, while others swing freely. Yesterday I nearly spilled an entire pot of precious lotus root broth trying to push through the meditation hall door!\"\n",
    "\n",
    "The wise cook has been observing patterns for months, noting how the temple's humidity affects each door's behavior. Now Cook seeks to master the art of prediction—to know which doors will stick before approaching them with precious cargo. \"If I can learn this pattern,\" Cook explains, \"I can plan my routes and avoid the sticky doors entirely. But I need more than just intuition—I need the mathematical wisdom of the sigmoid function to transform humidity measurements into clear yes-or-no decisions!\""
   ]
  },
  {
   "cell_type": "markdown",
   "metadata": {},
   "source": [
    "## 🎯 THE SACRED OBJECTIVES\n",
    "\n",
    "By the end of this kata, you will have mastered:\n",
    "\n",
    "- [ ] **Binary Classification Fundamentals**: Learn to predict yes/no outcomes using neural networks\n",
    "- [ ] **Sigmoid Activation Mastery**: Transform continuous values into probabilities between 0 and 1\n",
    "- [ ] **Single-Variable Classification**: Build intuition with one input feature before tackling complex problems\n",
    "- [ ] **Threshold Decision Making**: Convert probabilities into actionable binary decisions\n",
    "- [ ] **Binary Cross-Entropy Loss**: Understand the mathematics of classification error measurement\n",
    "- [ ] **Probability Interpretation**: Learn to read and trust your model's confidence levels"
   ]
  },
  {
   "cell_type": "code",
   "execution_count": null,
   "metadata": {},
   "outputs": [],
   "source": "# 📦 ALL IMPORTS AND CONFIGURATION\nimport torch\nimport torch.nn as nn\nimport torch.optim as optim\nimport matplotlib.pyplot as plt\nimport numpy as np\nfrom typing import Tuple\n\n# Global configuration constants\nDEFAULT_CHAOS_LEVEL = 0.1\nHUMIDITY_THRESHOLD = 60.0  # Cook's observed critical humidity level\n\nprint(\"🏮 The Temple of Neural Networks welcomes you, Grasshopper!\")\nprint(f\"PyTorch version: {torch.__version__}\")\nprint(\"🐱 Suki stirs from her afternoon nap, sensing the approach of learning...\")"
  },
  {
   "cell_type": "markdown",
   "metadata": {},
   "source": [
    "## 🍜 THE SACRED DATA GENERATION SCROLL"
   ]
  },
  {
   "cell_type": "code",
   "execution_count": null,
   "metadata": {},
   "outputs": [],
   "source": "def generate_door_humidity_data(n_observations: int = 200, chaos_level: float = 0.1) -> Tuple[torch.Tensor, torch.Tensor]:\n    \"\"\"\n    Generate observations of temple door behavior based on humidity levels.\n    \n    Cook Oh-Pai-Timizer's wisdom: Doors tend to stick when humidity > 60%\n    But ancient wood has its own mysterious patterns!\n    \n    Args:\n        n_observations: Number of door-testing incidents to simulate\n        chaos_level: Amount of wooden unpredictability (0.0 = perfectly predictable doors, 1.0 = chaos)\n        \n    Returns:\n        Tuple of (humidity_levels, door_sticks) as sacred tensors\n        door_sticks: 1 = door sticks (avoid!), 0 = door opens smoothly\n    \"\"\"\n    # Temple humidity ranges from 20% (dry winter) to 90% (monsoon season)\n    humidity_levels = torch.rand(n_observations, 1) * 70 + 20\n    \n    # Cook's observed pattern: doors stick more often when humidity > 60%\n    # Create base probability using a smooth sigmoid-like pattern\n    stick_probability = torch.sigmoid((humidity_levels.squeeze() - HUMIDITY_THRESHOLD) / 5.0)\n    \n    # Add wooden chaos - sometimes doors surprise you!\n    chaos = torch.randn(n_observations) * chaos_level * 0.3\n    stick_probability = torch.clamp(stick_probability + chaos, 0.0, 1.0)\n    \n    # Convert probabilities to actual door behavior (0 or 1)\n    door_sticks = torch.bernoulli(stick_probability).unsqueeze(1)\n    \n    return humidity_levels, door_sticks\n\ndef visualize_door_wisdom(humidity: torch.Tensor, door_sticks: torch.Tensor, \n                         predictions: torch.Tensor = None):\n    \"\"\"\n    Display the sacred patterns of door behavior vs humidity.\n    \"\"\"\n    plt.figure(figsize=(14, 8))\n    \n    # Create two subplots\n    plt.subplot(1, 2, 1)\n    \n    # Separate sticky and smooth doors for clear visualization\n    sticky_mask = door_sticks.squeeze() == 1\n    smooth_mask = door_sticks.squeeze() == 0\n    \n    plt.scatter(humidity[sticky_mask].numpy(), [1]*torch.sum(sticky_mask).item(), \n                alpha=0.6, color='red', s=50, label='Doors That Stick (Danger!)')\n    plt.scatter(humidity[smooth_mask].numpy(), [0]*torch.sum(smooth_mask).item(), \n                alpha=0.6, color='green', s=50, label='Doors That Open Smoothly')\n    \n    plt.axvline(x=HUMIDITY_THRESHOLD, color='orange', linestyle='--', alpha=0.7,\n                label=f'Cook\\'s Threshold ({HUMIDITY_THRESHOLD}% humidity)')\n    \n    plt.xlabel('Humidity Level (%)')\n    plt.ylabel('Door Behavior')\n    plt.title('Cook Oh-Pai-Timizer\\'s Door Observations')\n    plt.legend()\n    plt.grid(True, alpha=0.3)\n    plt.ylim(-0.2, 1.2)\n    plt.yticks([0, 1], ['Opens Smoothly', 'Sticks!'])\n    \n    # Second subplot for predictions if provided\n    if predictions is not None:\n        plt.subplot(1, 2, 2)\n        \n        # Sort by humidity for smooth prediction curve\n        sorted_indices = torch.argsort(humidity.squeeze())\n        sorted_humidity = humidity[sorted_indices]\n        sorted_predictions = predictions[sorted_indices]\n        \n        plt.plot(sorted_humidity.numpy(), sorted_predictions.detach().numpy(), \n                'gold', linewidth=3, label='Your Sigmoid Predictions')\n        plt.scatter(humidity[sticky_mask].numpy(), [1]*torch.sum(sticky_mask).item(), \n                    alpha=0.4, color='red', s=30)\n        plt.scatter(humidity[smooth_mask].numpy(), [0]*torch.sum(smooth_mask).item(), \n                    alpha=0.4, color='green', s=30)\n        \n        plt.axhline(y=0.5, color='purple', linestyle=':', alpha=0.7,\n                    label='Decision Threshold (50%)')\n        plt.axvline(x=HUMIDITY_THRESHOLD, color='orange', linestyle='--', alpha=0.7)\n        \n        plt.xlabel('Humidity Level (%)')\n        plt.ylabel('Predicted Probability of Sticking')\n        plt.title('Your Mystical Door Predictions')\n        plt.legend()\n        plt.grid(True, alpha=0.3)\n        plt.ylim(-0.1, 1.1)\n    \n    plt.tight_layout()\n    plt.show()\n\n# Generate the sacred data\nhumidity_levels, door_sticks = generate_door_humidity_data(n_observations=200)\n\nprint(f\"🚪 Generated {len(humidity_levels)} observations of temple door behavior\")\nprint(f\"💧 Humidity range: {humidity_levels.min():.1f}% to {humidity_levels.max():.1f}%\")\nprint(f\"🔒 Doors that stick: {torch.sum(door_sticks).item()}/{len(door_sticks)} ({torch.mean(door_sticks).item():.1%})\")\n\n# Visualize the sacred patterns\nvisualize_door_wisdom(humidity_levels, door_sticks)"
  },
  {
   "cell_type": "markdown",
   "metadata": {},
   "source": [
    "## 🚪 THE SIGMOID GATEWAY PREDICTOR"
   ]
  },
  {
   "cell_type": "code",
   "execution_count": null,
   "metadata": {},
   "outputs": [],
   "source": [
    "class DoorStickinessPredictor(nn.Module):\n",
    "    \"\"\"A mystical artifact for predicting when temple doors will misbehave.\"\"\"\n",
    "    \n",
    "    def __init__(self, input_features: int = 1):\n",
    "        super(DoorStickinessPredictor, self).__init__()\n",
    "        # TODO: Create a Linear layer to transform humidity into raw predictions\n",
    "        # Hint: One input (humidity), one output (raw stickiness score)\n",
    "        self.linear = None\n",
    "        \n",
    "        # TODO: Add the sigmoid activation function\n",
    "        # Hint: torch.nn.Sigmoid() transforms any number into a probability (0 to 1)\n",
    "        self.sigmoid = None\n",
    "    \n",
    "    def forward(self, features: torch.Tensor) -> torch.Tensor:\n",
    "        \"\"\"Transform humidity measurements into door-sticking probabilities.\"\"\"\n",
    "        # TODO: Pass humidity through the linear layer first\n",
    "        raw_output = None\n",
    "        \n",
    "        # TODO: Apply sigmoid to convert raw output to probability (0-1 range)\n",
    "        # This is the magic that makes classification work!\n",
    "        probability = None\n",
    "        \n",
    "        return probability\n",
    "\n",
    "def train_door_predictor(model: nn.Module, features: torch.Tensor, target: torch.Tensor,\n",
    "                        epochs: int = 2000, learning_rate: float = 0.1) -> list:\n",
    "    \"\"\"\n",
    "    Train the door stickiness prediction model.\n",
    "    \n",
    "    Returns:\n",
    "        List of loss values during training\n",
    "    \"\"\"\n",
    "    # TODO: Choose the right loss function for binary classification\n",
    "    # Hint: Binary Cross Entropy Loss is the master's choice for yes/no problems\n",
    "    criterion = None\n",
    "    \n",
    "    # TODO: Choose your optimizer\n",
    "    # Hint: SGD with higher learning rate works well for simple problems\n",
    "    optimizer = None\n",
    "    \n",
    "    losses = []\n",
    "    \n",
    "    for epoch in range(epochs):\n",
    "        # TODO: CRITICAL - Clear gradients from previous iteration\n",
    "        # The spirits of old gradients must be banished!\n",
    "        \n",
    "        # TODO: Forward pass - get probability predictions\n",
    "        predictions = None\n",
    "        \n",
    "        # TODO: Calculate binary classification loss\n",
    "        loss = None\n",
    "        \n",
    "        # TODO: Backward pass - compute gradients\n",
    "        \n",
    "        # TODO: Update model parameters\n",
    "        \n",
    "        losses.append(loss.item())\n",
    "        \n",
    "        # Report progress to Cook Oh-Pai-Timizer\n",
    "        if (epoch + 1) % 200 == 0:\n",
    "            print(f'Epoch [{epoch+1}/{epochs}], Loss: {loss.item():.4f}')\n",
    "            if loss.item() < 0.3:\n",
    "                print(\"🍜 Cook Oh-Pai-Timizer nods approvingly - the wisdom flows!\")\n",
    "    \n",
    "    return losses\n",
    "\n",
    "def make_door_decisions(model: nn.Module, humidity: torch.Tensor, threshold: float = 0.5) -> torch.Tensor:\n",
    "    \"\"\"\n",
    "    Convert probability predictions into binary door decisions.\n",
    "    \n",
    "    Args:\n",
    "        model: Your trained predictor\n",
    "        humidity: Humidity measurements\n",
    "        threshold: Decision boundary (default 0.5 means 50% confidence)\n",
    "    \n",
    "    Returns:\n",
    "        Binary decisions: 1 = door will stick (avoid!), 0 = door opens smoothly\n",
    "    \"\"\"\n",
    "    with torch.no_grad():\n",
    "        probabilities = model(humidity)\n",
    "        decisions = (probabilities > threshold).float()\n",
    "    return decisions"
   ]
  },
  {
   "cell_type": "markdown",
   "metadata": {},
   "source": [
    "## ⚡ THE TRIALS OF MASTERY\n",
    "\n",
    "### Trial 1: Basic Sigmoid Mastery\n",
    "- [ ] Loss decreases smoothly (no oscillating spirits)\n",
    "- [ ] Final loss below 0.4 (Cook Oh-Pai-Timizer's approval threshold)\n",
    "- [ ] Model outputs probabilities between 0 and 1 (sigmoid magic working)\n",
    "- [ ] Predictions show clear S-curve pattern when plotted against humidity\n",
    "\n",
    "### Trial 2: Decision Accuracy Test\n",
    "- [ ] Achieve >75% accuracy on training data\n",
    "- [ ] Model correctly identifies most doors above 60% humidity as \"sticky\"\n",
    "- [ ] Model correctly identifies most doors below 60% humidity as \"smooth\"\n",
    "\n",
    "### Trial 3: Understanding Test"
   ]
  },
  {
   "cell_type": "code",
   "execution_count": null,
   "metadata": {},
   "outputs": [],
   "source": [
    "def test_your_wisdom(model):\n",
    "    \"\"\"Cook Oh-Pai-Timizer's evaluation of your door prediction skills.\"\"\"\n",
    "    \n",
    "    # Test sigmoid activation is working\n",
    "    test_humidity = torch.tensor([[30.0], [60.0], [80.0]])  # Low, medium, high humidity\n",
    "    predictions = model(test_humidity)\n",
    "    \n",
    "    # All predictions should be probabilities (0 to 1)\n",
    "    assert torch.all(predictions >= 0) and torch.all(predictions <= 1), \\\n",
    "        \"Sigmoid not working - predictions outside 0-1 range!\"\n",
    "    \n",
    "    # Higher humidity should generally mean higher sticking probability\n",
    "    assert predictions[2] > predictions[0], \\\n",
    "        \"High humidity should be stickier than low humidity!\"\n",
    "    \n",
    "    # Check model learned reasonable threshold behavior\n",
    "    low_humidity_pred = model(torch.tensor([[40.0]])).item()\n",
    "    high_humidity_pred = model(torch.tensor([[75.0]])).item()\n",
    "    \n",
    "    assert low_humidity_pred < 0.5, f\"Low humidity prediction {low_humidity_pred:.3f} should be < 0.5\"\n",
    "    assert high_humidity_pred > 0.5, f\"High humidity prediction {high_humidity_pred:.3f} should be > 0.5\"\n",
    "    \n",
    "    print(\"🎉 Cook Oh-Pai-Timizer beams with pride!\")\n",
    "    print(\"   'You have mastered the sigmoid way - doors shall no longer surprise you!'\")\n",
    "    print(f\"   Low humidity (40%): {low_humidity_pred:.1%} chance of sticking\")\n",
    "    print(f\"   High humidity (75%): {high_humidity_pred:.1%} chance of sticking\")"
   ]
  },
  {
   "cell_type": "markdown",
   "metadata": {},
   "source": "## 🌸 THE FOUR PATHS OF MASTERY: PROGRESSIVE EXTENSIONS\n\n*Master Pai-Torch gestures toward four different pathways leading deeper into the temple.*\n\n\"You have learned the fundamental way, grasshopper. But mastery comes through exploring the branching paths.\"\n\n🔍 **Adjust the confidence threshold.** What happens when you use 0.3 or 0.7 instead of 0.5 for making decisions? How does this affect accuracy?\n\n⚡ **Increase or decrease the learning rate.** What happens to the sigmoid curve shape? Can you make the training converge faster or more stable?\n\n🎯 **Add more chaos to the door data.** How much randomness can your model handle before it starts making poor predictions?\n\n🌟 **Change the humidity threshold in the data generation.** What if doors start sticking at 50% or 80% humidity instead of 60%? Does your model adapt?"
  },
  {
   "cell_type": "markdown",
   "source": "## 🏆 COMPLETION CEREMONY\n\n*Cook Oh-Pai-Timizer approaches with a ceremonial ladle*\n\n\"Congratulations, young grasshopper! You have successfully mastered the Sigmoid Gateway Mystery! Through the ancient temple doors, you have learned the fundamental mysteries of binary classification:\n\n**Sacred Knowledge Acquired:**\n- **Binary Classification Mastery**: You can now predict yes/no outcomes with neural networks\n- **Sigmoid Activation Understanding**: You transform raw outputs into meaningful probabilities\n- **Decision Threshold Wisdom**: You know how to convert predictions into actionable decisions\n- **Binary Cross-Entropy Fluency**: You measure classification errors with the proper loss function\n- **Confidence Interpretation**: You understand what probability predictions really mean\n\n**Final Wisdom:**\nRemember always: the sigmoid function is like the temple gate - it stands between chaos and order, transforming any input into the sacred realm of probability. This wisdom will serve you well in your journey toward greater mastery!\n\n🐱 *Suki purrs approvingly from her perch, as if to say: \"You are ready for greater challenges, young neural warrior.\"*\n\n🏮 **May your gradients flow smoothly and your losses converge swiftly!** 🏮",
   "metadata": {}
  }
 ],
 "metadata": {
  "kernelspec": {
   "display_name": "Python 3",
   "language": "python",
   "name": "python3"
  },
  "language_info": {
   "codemirror_mode": {
    "name": "ipython",
    "version": 3
   },
   "file_extension": ".py",
   "mimetype": "text/x-python",
   "name": "python",
   "nbconvert_exporter": "python",
   "pygments_lexer": "ipython3",
   "version": "3.8.5"
  }
 },
 "nbformat": 4,
 "nbformat_minor": 4
}